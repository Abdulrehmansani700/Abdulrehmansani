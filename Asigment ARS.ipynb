{
 "cells": [
  {
   "cell_type": "markdown",
   "id": "e61d585b",
   "metadata": {},
   "source": [
    "# Question No : 01\n",
    "\n"
   ]
  },
  {
   "cell_type": "code",
   "execution_count": 3,
   "id": "0b7e4369",
   "metadata": {},
   "outputs": [
    {
     "name": "stdout",
     "output_type": "stream",
     "text": [
      "ABdulrehmansani\n",
      "Muhmmad yaqoob sani\n",
      "24-01-2007\n"
     ]
    }
   ],
   "source": [
    "name = ('ABdulrehmansani')\n",
    "father_name = ('Muhmmad yaqoob sani')\n",
    "Date_of_birth = ('24-01-2007')\n",
    "\n",
    "print(name)\n",
    "print(father_name)\n",
    "print(Date_of_birth)\n",
    "\n"
   ]
  },
  {
   "cell_type": "markdown",
   "id": "88c60cfb",
   "metadata": {},
   "source": [
    "# Question no : 02 "
   ]
  },
  {
   "cell_type": "code",
   "execution_count": 9,
   "id": "f38e7cf5",
   "metadata": {},
   "outputs": [
    {
     "name": "stdout",
     "output_type": "stream",
     "text": [
      "Name:AbdulrehmandsaniFather_name : Muhmmad yaqoob saniEdyucation : IntermidateLocation : St.01 agartaj lyari karachi pakistan \n"
     ]
    }
   ],
   "source": [
    "biodata = ('Name:Abdulrehmandsani'\n",
    "'Father_name : Muhmmad yaqoob sani'\n",
    "'Edyucation : Intermidate'\n",
    "'Location : St.01 agartaj lyari karachi pakistan '\n",
    ")\n",
    "print(biodata)\n"
   ]
  },
  {
   "cell_type": "markdown",
   "id": "c405ae7b",
   "metadata": {},
   "source": [
    "# Qustion no : 03"
   ]
  },
  {
   "cell_type": "markdown",
   "id": "715d6eeb",
   "metadata": {},
   "source": [
    "#### Arthmetic Operators \n",
    "#### It is used in solve mathematicals opertaions "
   ]
  },
  {
   "cell_type": "code",
   "execution_count": null,
   "id": "e28bc0c0",
   "metadata": {},
   "outputs": [
    {
     "name": "stdout",
     "output_type": "stream",
     "text": [
      "4\n",
      "2\n",
      "18\n",
      "2.0\n",
      "234\n",
      "9\n",
      "0\n"
     ]
    }
   ],
   "source": [
    "2+2\n",
    "4-2\n",
    "3*6\n",
    "12/6\n",
    "\n",
    "print(2+2)\n",
    "print(4-2)\n",
    "print(3*6)\n",
    "print(12/6)\n",
    "\n",
    "# Modulus --> (The rest is left over)\n",
    "1100%866\n",
    "# Power \n",
    "3**2\n",
    "# Floor division --> (Full part)\n",
    "2//4\n",
    "print(1100%866)\n",
    "print(3**2)\n",
    "print(2//4)"
   ]
  },
  {
   "cell_type": "markdown",
   "id": "a50e659a",
   "metadata": {},
   "source": [
    "#### Comprasion Operators \n",
    "#### It is used in compare the fuctions\n"
   ]
  },
  {
   "cell_type": "code",
   "execution_count": null,
   "id": "7632e544",
   "metadata": {},
   "outputs": [
    {
     "name": "stdout",
     "output_type": "stream",
     "text": [
      "False\n",
      "False\n",
      "True\n",
      "True\n",
      "True\n",
      "False\n"
     ]
    }
   ],
   "source": [
    "2==3\n",
    "4!= 2\n",
    "8>4\n",
    "9<10\n",
    "2 <= 8\n",
    "2 >= 8\n",
    "print(2==3)\n",
    "print(4!= 4)\n",
    "print(8>4)\n",
    "print(9<10)\n",
    "print(2 <= 8)\n",
    "print(2 >= 8)\n"
   ]
  },
  {
   "cell_type": "markdown",
   "id": "2464f445",
   "metadata": {},
   "source": [
    "#### Logical Operators \n",
    "#### These is used to make a discion by combinig true/false\n"
   ]
  },
  {
   "cell_type": "code",
   "execution_count": 28,
   "id": "a2cb92b9",
   "metadata": {},
   "outputs": [
    {
     "data": {
      "text/plain": [
       "False"
      ]
     },
     "execution_count": 28,
     "metadata": {},
     "output_type": "execute_result"
    }
   ],
   "source": [
    "x = 10\n",
    "x>2 and x<8"
   ]
  },
  {
   "cell_type": "code",
   "execution_count": 2,
   "id": "8d0ecb9f",
   "metadata": {},
   "outputs": [
    {
     "data": {
      "text/plain": [
       "True"
      ]
     },
     "execution_count": 2,
     "metadata": {},
     "output_type": "execute_result"
    }
   ],
   "source": [
    "x = 10\n",
    "x>2 and x>6"
   ]
  },
  {
   "cell_type": "code",
   "execution_count": 3,
   "id": "436cff61",
   "metadata": {},
   "outputs": [
    {
     "data": {
      "text/plain": [
       "True"
      ]
     },
     "execution_count": 3,
     "metadata": {},
     "output_type": "execute_result"
    }
   ],
   "source": [
    "x = 10\n",
    "x>2 or x<4"
   ]
  },
  {
   "cell_type": "code",
   "execution_count": 5,
   "id": "a8a1c04a",
   "metadata": {},
   "outputs": [
    {
     "data": {
      "text/plain": [
       "False"
      ]
     },
     "execution_count": 5,
     "metadata": {},
     "output_type": "execute_result"
    }
   ],
   "source": [
    "x =10\n",
    "x<2 or x>12"
   ]
  },
  {
   "cell_type": "markdown",
   "id": "cbb9ce95",
   "metadata": {},
   "source": [
    "#### Member ship Opertors \n",
    "#### It use in check the list/dicks/strings"
   ]
  },
  {
   "cell_type": "code",
   "execution_count": 10,
   "id": "ab09b9b8",
   "metadata": {},
   "outputs": [
    {
     "name": "stdout",
     "output_type": "stream",
     "text": [
      "True\n",
      "False\n",
      "True\n"
     ]
    }
   ],
   "source": [
    "Numbers = { 1,2,3,4,5,6}\n",
    "print(3 in Numbers)\n",
    "print(9 in Numbers)\n",
    "print(12 not in Numbers)"
   ]
  },
  {
   "cell_type": "markdown",
   "id": "8e719072",
   "metadata": {},
   "source": [
    "#### Identity Opertors \n",
    "#### it is use in check in the same object "
   ]
  },
  {
   "cell_type": "code",
   "execution_count": 18,
   "id": "84f35275",
   "metadata": {},
   "outputs": [
    {
     "name": "stdout",
     "output_type": "stream",
     "text": [
      "True\n",
      "False\n",
      "True\n"
     ]
    }
   ],
   "source": [
    "x = (10,20,30,40)\n",
    "y = x\n",
    "z = (10,20,30,40)\n",
    "\n",
    "print(x is y)\n",
    "print(x is z)\n",
    "print(x == z)"
   ]
  },
  {
   "cell_type": "markdown",
   "id": "05ee784d",
   "metadata": {},
   "source": [
    "#### Assigment Opertors \n",
    "#### It is use in assign the values and update"
   ]
  },
  {
   "cell_type": "code",
   "execution_count": 33,
   "id": "0b5c8161",
   "metadata": {},
   "outputs": [
    {
     "name": "stdout",
     "output_type": "stream",
     "text": [
      "15\n",
      "10\n",
      "40\n",
      "13.333333333333334\n",
      "1.333333333333334\n",
      "2.3703703703703733\n",
      "1.0\n"
     ]
    }
   ],
   "source": [
    "x = 10\n",
    "x += 5\n",
    "print(x)\n",
    "\n",
    "x -= 5\n",
    "print(x)\n",
    "\n",
    "x *= 4\n",
    "print(x)\n",
    "\n",
    "x /= 3\n",
    "print(x)\n",
    "\n",
    "x %= 6\n",
    "print(x)\n",
    "\n",
    "x **= 3\n",
    "print(x)\n",
    "\n",
    "x //= 2\n",
    "print(x)"
   ]
  },
  {
   "cell_type": "markdown",
   "id": "e82847b9",
   "metadata": {},
   "source": [
    "#### Bitwise Opertors\n",
    "#### It is used in binary operations "
   ]
  },
  {
   "cell_type": "code",
   "execution_count": 35,
   "id": "00a557ad",
   "metadata": {},
   "outputs": [
    {
     "name": "stdout",
     "output_type": "stream",
     "text": [
      "0\n",
      "26\n",
      "26\n",
      "-10\n",
      "20\n",
      "5\n"
     ]
    }
   ],
   "source": [
    "x = 10\n",
    "y = 16\n",
    "\n",
    "print( x & y)\n",
    "print(x | y)\n",
    "print(x ^ y)\n",
    "print(-x)\n",
    "print(x << 1)\n",
    "print(x >> 1)"
   ]
  },
  {
   "cell_type": "markdown",
   "id": "fafcb4c1",
   "metadata": {},
   "source": [
    "#### Question No : 04 \n",
    "4. Completes the following steps of small task:\n",
    "    - Mention Marks of English , Islamiat and Maths out of 100 in 3 different variables\n",
    "    - Mention Variable of Total Marks and assign 300 to it\n",
    "    - Calculate Percentage"
   ]
  },
  {
   "cell_type": "code",
   "execution_count": null,
   "id": "62227c7c",
   "metadata": {},
   "outputs": [
    {
     "name": "stdout",
     "output_type": "stream",
     "text": [
      "80.33333333333333\n"
     ]
    }
   ],
   "source": [
    "Marks_of_English = (100/76)\n",
    "Marks_of_Math = (100/85)\n",
    "Marks_of_Islmiyat = (100/80)\n",
    "\n",
    "Total = 300\n",
    "obtain = 85 + 76 + 80\n",
    "percentage = (241/300*100)\n",
    "\n",
    "print(percentage)\n"
   ]
  },
  {
   "cell_type": "markdown",
   "id": "f682b930",
   "metadata": {},
   "source": [
    "### Part : 02\n",
    "#### Python basic conditional Statement \n"
   ]
  },
  {
   "cell_type": "markdown",
   "id": "5ae226f2",
   "metadata": {},
   "source": [
    "#### Question No : 05\n",
    "####   A company decided to give bonus of 5% to employee if his/her year of service is more than 5 years.\n",
    "#### Ask user for their salary and year of service and print the net bonus amount."
   ]
  },
  {
   "cell_type": "code",
   "execution_count": 32,
   "id": "f77c094f",
   "metadata": {},
   "outputs": [
    {
     "name": "stdout",
     "output_type": "stream",
     "text": [
      "Net bonus amount:  0\n"
     ]
    }
   ],
   "source": [
    "salary = float(input(\"Enter your salary:\"))\n",
    "year = int(input(\"Enter of years of service: \"))\n",
    "if year > 5: \n",
    "    bonus = salary * 0.05  # 5% of salary \n",
    "else:\n",
    "    bonus = 0  # No bonus if service is > 5\n",
    "    print(\"Net bonus amount: \", bonus)"
   ]
  },
  {
   "cell_type": "markdown",
   "id": "d171edc4",
   "metadata": {},
   "source": [
    "#### Question No :06\n",
    "#### Write a program to check whether a person is eligible for voting or not. (accept age from user) if age is greater than 17 eligible otherwise not eligible\n"
   ]
  },
  {
   "cell_type": "code",
   "execution_count": 2,
   "id": "1bafb35d",
   "metadata": {},
   "outputs": [
    {
     "name": "stdout",
     "output_type": "stream",
     "text": [
      "you are not eligible to vote \n"
     ]
    }
   ],
   "source": [
    "age = int(input(\"Enter your age\"))\n",
    "if age > 17:\n",
    "    print(\"you are eligible to vote. \")\n",
    "else:\n",
    "    print(\"you are not eligible to vote \")"
   ]
  },
  {
   "cell_type": "markdown",
   "id": "e3a6dfe0",
   "metadata": {},
   "source": [
    "#### Qustion No : 07\n",
    "####  Write a program to check whether a number entered by user is even or odd."
   ]
  },
  {
   "cell_type": "code",
   "execution_count": 2,
   "id": "beb22b62",
   "metadata": {},
   "outputs": [
    {
     "name": "stdout",
     "output_type": "stream",
     "text": [
      "Odd Number\n"
     ]
    }
   ],
   "source": [
    "number = int(input(\"Enter a  number : \"))\n",
    "if number % 6 == 0:\n",
    "    print(\"Even Number\")\n",
    "else:\n",
    "    print(\"Odd Number\")"
   ]
  },
  {
   "cell_type": "markdown",
   "id": "63e263c2",
   "metadata": {},
   "source": [
    "#### Question No : 08\n",
    "####  Write a program to display \n",
    "#### \"Hello\" if a number entered by user is a multiple of five , otherwise print \"Bye\"."
   ]
  },
  {
   "cell_type": "code",
   "execution_count": 16,
   "id": "d9a843d8",
   "metadata": {},
   "outputs": [
    {
     "name": "stdout",
     "output_type": "stream",
     "text": [
      "Hello\n"
     ]
    }
   ],
   "source": [
    "Number = int(input(\"Enter a number: \"))\n",
    "if number % 5 == 0:\n",
    "    print(\"Bye\")\n",
    "else:\n",
    "    print(\"Hello\")\n",
    "\n"
   ]
  },
  {
   "cell_type": "markdown",
   "id": "0d574110",
   "metadata": {},
   "source": [
    "#### Question No : 09\n",
    "####  Write a program to display the last digit of a number.\n"
   ]
  },
  {
   "cell_type": "code",
   "execution_count": 30,
   "id": "084c9248",
   "metadata": {},
   "outputs": [
    {
     "name": "stdout",
     "output_type": "stream",
     "text": [
      "Last digit: is:  6\n"
     ]
    }
   ],
   "source": [
    "number = int(input(\"Enter a number: \"))\n",
    "Last_digit = number % 10\n",
    "print(\"Last digit: is: \" , Last_digit)"
   ]
  },
  {
   "cell_type": "markdown",
   "id": "5e83056e",
   "metadata": {},
   "source": [
    "#### Question No : 10\n",
    "####  Take values of length and breadth of a rectangle from user and print if it is square or rectangle."
   ]
  },
  {
   "cell_type": "code",
   "execution_count": 2,
   "id": "fb89f622",
   "metadata": {},
   "outputs": [
    {
     "name": "stdout",
     "output_type": "stream",
     "text": [
      "it is a rectangle\n"
     ]
    }
   ],
   "source": [
    "length = (int(input(24)))\n",
    "breadth = (int(input(\"34\")))\n",
    "if length == breadth:\n",
    "    print(\"it is a square\")\n",
    "else:\n",
    "    print(\"it is a rectangle\")"
   ]
  },
  {
   "cell_type": "code",
   "execution_count": 7,
   "id": "78f60149",
   "metadata": {},
   "outputs": [
    {
     "name": "stdout",
     "output_type": "stream",
     "text": [
      "it is a square\n"
     ]
    }
   ],
   "source": [
    "length = (int(input(48)))\n",
    "breadth = (int(input(26)))\n",
    "if length == breadth:\n",
    "    print(\"it is a rectangle\")\n",
    "else:\n",
    "    print(\"it is a square\")"
   ]
  },
  {
   "cell_type": "markdown",
   "id": "f2c15c8a",
   "metadata": {},
   "source": [
    "#### Question No : 11\n",
    "####  Take two int values from user and print greatest among them."
   ]
  },
  {
   "cell_type": "code",
   "execution_count": 4,
   "id": "c05efe37",
   "metadata": {},
   "outputs": [
    {
     "name": "stdout",
     "output_type": "stream",
     "text": [
      "greatest number is x\n"
     ]
    }
   ],
   "source": [
    "x = int(input(48))\n",
    "y = int(input(35))\n",
    "if x > y:\n",
    "    print(\"greatest number is x\")\n",
    "else:\n",
    "    print(\"greatest number is y\")"
   ]
  },
  {
   "cell_type": "code",
   "execution_count": 5,
   "id": "42d6fb60",
   "metadata": {},
   "outputs": [
    {
     "name": "stdout",
     "output_type": "stream",
     "text": [
      "greatest number is y\n"
     ]
    }
   ],
   "source": [
    "x = int(input(24))\n",
    "y = int(input(46))\n",
    "if x > y:\n",
    "    print(\"greatest number is x\")\n",
    "else:\n",
    "    print(\"greatest number is y\")"
   ]
  },
  {
   "cell_type": "markdown",
   "id": "826f5334",
   "metadata": {},
   "source": [
    "#### Question No : 12\n",
    "####  A shop will give discount of 10% if the cost of purchased quantity is more than 1000.Ask user for quantity Suppose, one unit will cost 100.Judge and print total cost for user."
   ]
  },
  {
   "cell_type": "code",
   "execution_count": 8,
   "id": "fef0ee1b",
   "metadata": {},
   "outputs": [
    {
     "name": "stdout",
     "output_type": "stream",
     "text": [
      "Total cost for user:  261000.0\n"
     ]
    }
   ],
   "source": [
    "quantity = int(input(2900))\n",
    "cost_per_unit = 100 \n",
    "total_cost = 2900*100\n",
    "if total_cost > 1000:\n",
    "    discount = total_cost * 0.10\n",
    "    total_cost = total_cost - discount\n",
    "\n",
    "print(\"Total cost for user: \" , total_cost)"
   ]
  },
  {
   "cell_type": "code",
   "execution_count": null,
   "id": "1f4f8761",
   "metadata": {},
   "outputs": [],
   "source": []
  },
  {
   "cell_type": "markdown",
   "id": "6f648a25",
   "metadata": {},
   "source": [
    "#### Question No : 13\n",
    "####  A school has following rules for grading system:\n",
    "\n",
    "a. Below 25 - F\n",
    "\n",
    "b. 25 to 45 - E\n",
    "\n",
    "c. 45 to 50 - D\n",
    "\n",
    "d. 50 to 60 - C\n",
    "\n",
    "e. 60 to 80 - B\n",
    "\n",
    "f. Above 80 - A\n",
    "\n",
    "Ask user to enter marks and print the corresponding grade."
   ]
  },
  {
   "cell_type": "code",
   "execution_count": 13,
   "id": "316934c9",
   "metadata": {},
   "outputs": [
    {
     "name": "stdout",
     "output_type": "stream",
     "text": [
      "Your grade is A\n"
     ]
    }
   ],
   "source": [
    "marks = int(input(86))\n",
    "if marks < 25:\n",
    "    grade = \"F\"\n",
    "elif marks <= 45:\n",
    "    grade = \"E\"\n",
    "elif marks <= 50:\n",
    "    grade = \"D\"\n",
    "elif marks <= 60:\n",
    "    grade = \"C\"\n",
    "elif marks <= 80:\n",
    "    grade = \"B\"\n",
    "else:\n",
    "    grade = \"A\"\n",
    "print(\"Your grade is\" , grade)"
   ]
  },
  {
   "cell_type": "markdown",
   "id": "6c713bb4",
   "metadata": {},
   "source": [
    "#### Question No : 14 A student will not be allowed to sit in exam if his/her attendence is less than 75%.\n",
    "\n",
    "Take following input from user\n",
    "\n",
    "- Number of classes held\n",
    "\n",
    "- Number of classes attended.\n",
    "\n",
    "And print\n",
    "\n",
    "- percentage of class attended\n",
    "\n",
    "- Is student is allowed to sit in exam or not.\n",
    "\n",
    "#### "
   ]
  },
  {
   "cell_type": "code",
   "execution_count": 15,
   "id": "596a910f",
   "metadata": {},
   "outputs": [
    {
     "name": "stdout",
     "output_type": "stream",
     "text": [
      "Percentage of classes attended: 75.55555555555556 %\n",
      "Student is allowed to sit in exam.\n"
     ]
    }
   ],
   "source": [
    "classes_held = int(input(45))\n",
    "classes_attended = int(input(34))\n",
    "\n",
    "percentage = (classes_attended / classes_held) * 100\n",
    "\n",
    "print(\"Percentage of classes attended:\", percentage, \"%\")\n",
    "\n",
    "if percentage >= 75:\n",
    "    print(\"Student is allowed to sit in exam.\")\n",
    "else:\n",
    "    print(\"Student is NOT allowed to sit in exam.\")"
   ]
  },
  {
   "cell_type": "markdown",
   "id": "b81e2a48",
   "metadata": {},
   "source": [
    "#### Question No : 15\n",
    "####  Modify the above question to allow student to sit if he/she has medical cause. Ask user if he/she has medical cause or not ( 'Y' or 'N' ) and print accordingly."
   ]
  },
  {
   "cell_type": "code",
   "execution_count": 17,
   "id": "d8dbb1bf",
   "metadata": {},
   "outputs": [
    {
     "name": "stdout",
     "output_type": "stream",
     "text": [
      "Percentage of classes attended: 66.66666666666666 %\n",
      "Student is NOT allowed to sit in exam.\n"
     ]
    }
   ],
   "source": [
    "classes_held = int(input(12))\n",
    "classes_attended = int(input(8))\n",
    "\n",
    "percentage = (classes_attended / classes_held) * 100\n",
    "\n",
    "print(\"Percentage of classes attended:\", percentage, \"%\")\n",
    "\n",
    "if percentage >= 75:\n",
    "    print(\"Student is allowed to sit in exam.\")\n",
    "else:\n",
    "    medical = input(\"Do you have a medical cause? (Y/N): \")\n",
    "    if medical.upper() == \"Y\":\n",
    "        print(\"Student is allowed to sit in exam (Medical reason).\")\n",
    "    else:\n",
    "        print(\"Student is NOT allowed to sit in exam.\")\n"
   ]
  },
  {
   "cell_type": "markdown",
   "id": "376737a7",
   "metadata": {},
   "source": [
    "#### Question No : 16 Write a program to check if a year is leap year or not.If a year is divisible by 4 then it is leap year but if the year is century year like 2000, 1900, 2100 then it must be divisible by 400.\n"
   ]
  },
  {
   "cell_type": "code",
   "execution_count": 18,
   "id": "7deb28d3",
   "metadata": {},
   "outputs": [
    {
     "name": "stdout",
     "output_type": "stream",
     "text": [
      "13 is NOT a Leap Year\n"
     ]
    }
   ],
   "source": [
    "year = int(input(13))\n",
    "\n",
    "if (13 % 400 == 0) or (13 % 4 == 0 and 13 % 100 != 0):\n",
    "    print(year, \"is a Leap Year\")\n",
    "else:\n",
    "    print(year, \"is NOT a Leap Year\")"
   ]
  },
  {
   "cell_type": "markdown",
   "id": "f63c1d8b",
   "metadata": {},
   "source": [
    "#### Question No : 17\n",
    "####  Ask user to enter age, gender ( M or F ), marital status ( Y or N ) and then using following rules print their place of service.\n",
    "\n",
    "if employee is female, then she will work only in urban areas.\n",
    "\n",
    "if employee is a male and age is in between 20 to 40 then he may work in anywhere\n",
    "\n",
    "if employee is male and age is in between 40 t0 60 then he will work in urban areas only.\n",
    "\n",
    "And any other input of age should print \"ERROR\""
   ]
  },
  {
   "cell_type": "code",
   "execution_count": 19,
   "id": "16629f9b",
   "metadata": {},
   "outputs": [
    {
     "name": "stdout",
     "output_type": "stream",
     "text": [
      "ERROR\n"
     ]
    }
   ],
   "source": [
    "age = int(input(\"Enter age: \"))\n",
    "gender = input(\"Enter gender (M/F): \")\n",
    "marital_status = input(\"Marital status (Y/N): \")\n",
    "\n",
    "if gender.upper() == \"F\":\n",
    "    print(\"She will work only in urban areas.\")\n",
    "elif gender.upper() == \"M\" and 20 <= age <= 40:\n",
    "    print(\"He may work anywhere.\")\n",
    "elif gender.upper() == \"M\" and 40 < age <= 60:\n",
    "    print(\"He will work in urban areas only.\")\n",
    "else:\n",
    "    print(\"ERROR\")\n"
   ]
  },
  {
   "cell_type": "markdown",
   "id": "ef8e65d2",
   "metadata": {},
   "source": [
    "#### Question No : 18\n",
    "####  Write a program to calculate the electricity bill (accept number of unit from user) according to the following criteria :\n",
    "     Unit                                                     Price  \n",
    "uptp 100 units                                             no charge\n",
    "Next 200 units                                              Rs 5 per unit\n",
    "After 200 units                                             Rs 10 per unit\n",
    "(For example if input unit is 350 than total bill amount is Rs.3500\n",
    "(For example if input unit is 97 than total bill amount is Rs.0\n",
    "(For example if input unit is 150 than total bill amount is Rs.750"
   ]
  },
  {
   "cell_type": "code",
   "execution_count": 21,
   "id": "3cf0344e",
   "metadata": {},
   "outputs": [
    {
     "name": "stdout",
     "output_type": "stream",
     "text": [
      "Total Bill Amount: Rs. 900\n"
     ]
    }
   ],
   "source": [
    "units = int(input(280))\n",
    "\n",
    "if units <= 100:\n",
    "    bill = 0\n",
    "elif units <= 300:\n",
    "    bill = (units - 100) * 5\n",
    "else:\n",
    "    bill = (200 * 5) + (units - 300) * 10\n",
    "\n",
    "print(\"Total Bill Amount: Rs.\", bill)\n"
   ]
  }
 ],
 "metadata": {
  "kernelspec": {
   "display_name": "base",
   "language": "python",
   "name": "python3"
  },
  "language_info": {
   "codemirror_mode": {
    "name": "ipython",
    "version": 3
   },
   "file_extension": ".py",
   "mimetype": "text/x-python",
   "name": "python",
   "nbconvert_exporter": "python",
   "pygments_lexer": "ipython3",
   "version": "3.13.5"
  }
 },
 "nbformat": 4,
 "nbformat_minor": 5
}
