{
 "cells": [
  {
   "cell_type": "markdown",
   "id": "4647ee70",
   "metadata": {},
   "source": [
    "### Assigement : 02 \n",
    "### string:"
   ]
  },
  {
   "cell_type": "markdown",
   "id": "a0c2498f",
   "metadata": {},
   "source": [
    "### Q no : 01\n",
    "#### A company decided to give bonus of 5% to employee if his/her year of service is more than 5 years. Ask user for their salary and year of service and print the net bonus amount."
   ]
  },
  {
   "cell_type": "code",
   "execution_count": 12,
   "id": "501cd1c6",
   "metadata": {},
   "outputs": [
    {
     "name": "stdout",
     "output_type": "stream",
     "text": [
      "bonus\n"
     ]
    }
   ],
   "source": [
    "salary = input('Enter your saalry')\n",
    "year_of_serives = int(input('Enter your year of serives'))\n",
    "if year_of_serives >5:\n",
    "    print('bonus')\n",
    "else:\n",
    "    print('no bonus for year_of_serives is less than 5')"
   ]
  },
  {
   "cell_type": "markdown",
   "id": "cdd29efa",
   "metadata": {},
   "source": [
    "### Q no : 02\n",
    "### Write a program that accept a string from user. Your program should count and display number of vowels in the string :"
   ]
  },
  {
   "cell_type": "code",
   "execution_count": 5,
   "id": "32de1bd3",
   "metadata": {},
   "outputs": [
    {
     "name": "stdout",
     "output_type": "stream",
     "text": [
      "number of string 3\n"
     ]
    }
   ],
   "source": [
    "string = input(\"Enter the vowels\")\n",
    "count = 0 \n",
    "vowels = 'aeiou'\n",
    "for pakistan in string:\n",
    "    if pakistan in vowels:\n",
    "        count += 1\n",
    "print('number of string' , count)\n",
    "\n",
    "\n"
   ]
  },
  {
   "cell_type": "markdown",
   "id": "7422b007",
   "metadata": {},
   "source": [
    "### Q no : 03\n",
    "#### Write a program that reads a string from keyboard and display:\n",
    "\n",
    "#### - The number of uppercase letters in the string\n",
    "\n",
    "#### - The number of lowercase letters in the string\n",
    "\n",
    "#### - The number of digits in the string\n",
    "\n",
    "#### - The number of whitespace characters in the string"
   ]
  },
  {
   "cell_type": "code",
   "execution_count": 3,
   "id": "bbdd81d1",
   "metadata": {},
   "outputs": [
    {
     "name": "stdout",
     "output_type": "stream",
     "text": [
      "Upper case letters: 0\n",
      "Lower case letters: 4\n",
      "Digits: 0\n",
      "Spaces: 0\n"
     ]
    }
   ],
   "source": [
    "string = input(\"Enter the string: \")\n",
    "upper = 0\n",
    "lower = 0\n",
    "digits = 0\n",
    "space = 0\n",
    "\n",
    "for jupiter in string:\n",
    "    if jupiter.isupper():\n",
    "        upper += 1\n",
    "    elif jupiter.islower():\n",
    "        lower += 1\n",
    "    elif jupiter.isdigit():\n",
    "        digits += 1\n",
    "    elif jupiter.isspace():\n",
    "        space += 1\n",
    "\n",
    "print('Upper case letters:', upper)\n",
    "print('Lower case letters:', lower)\n",
    "print('Digits:', digits)\n",
    "print('Spaces:', space)\n"
   ]
  },
  {
   "cell_type": "markdown",
   "id": "f7ee89d2",
   "metadata": {},
   "source": [
    "### Q no : 04\n",
    "#### Write a Python program that accepts a string from user.Your program should create and display a new string where the first and last characters have been exchanged."
   ]
  },
  {
   "cell_type": "code",
   "execution_count": 12,
   "id": "3eba19ea",
   "metadata": {},
   "outputs": [
    {
     "name": "stdout",
     "output_type": "stream",
     "text": [
      "new string dnglane\n"
     ]
    }
   ],
   "source": [
    "string = input(\"Enter the number\") \n",
    "if len(string) < 2:\n",
    "    new_string = string\n",
    "else:\n",
    "    new_string = string[-1] + string[1: -1] + string[0]\n",
    "print('new string' , new_string)\n"
   ]
  },
  {
   "cell_type": "markdown",
   "id": "c6df2ca0",
   "metadata": {},
   "source": [
    "### Q no : 05\n",
    "####  Write a Python program that accepts a string from the user.Your program should create a new string in reverse of the first string and display it."
   ]
  },
  {
   "cell_type": "code",
   "execution_count": 17,
   "id": "44a5838e",
   "metadata": {},
   "outputs": [
    {
     "name": "stdout",
     "output_type": "stream",
     "text": [
      "reversed string rataq\n"
     ]
    }
   ],
   "source": [
    "string = input(\"Enter the number\")\n",
    "reversed_string = string[:: -1]\n",
    "print('reversed string' , reversed_string)\n"
   ]
  },
  {
   "cell_type": "markdown",
   "id": "27163deb",
   "metadata": {},
   "source": [
    "### Q no : 06\n",
    "#### Write a Python program that accepts a string from the user.Your program should count the frequency of each character in the string and display it"
   ]
  },
  {
   "cell_type": "code",
   "execution_count": 5,
   "id": "810cc1bc",
   "metadata": {},
   "outputs": [
    {
     "name": "stdout",
     "output_type": "stream",
     "text": [
      "character frequency:\n",
      "a 1\n",
      "character frequency:\n",
      "a 1\n",
      "z 1\n",
      "character frequency:\n",
      "a 1\n",
      "z 1\n",
      "e 1\n",
      "character frequency:\n",
      "a 1\n",
      "z 1\n",
      "e 1\n",
      "r 1\n",
      "character frequency:\n",
      "a 1\n",
      "z 1\n",
      "e 1\n",
      "r 1\n",
      "b 1\n",
      "character frequency:\n",
      "a 1\n",
      "z 1\n",
      "e 1\n",
      "r 1\n",
      "b 1\n",
      "i 1\n",
      "character frequency:\n",
      "a 1\n",
      "z 1\n",
      "e 1\n",
      "r 1\n",
      "b 1\n",
      "i 1\n",
      "j 1\n",
      "character frequency:\n",
      "a 2\n",
      "z 1\n",
      "e 1\n",
      "r 1\n",
      "b 1\n",
      "i 1\n",
      "j 1\n",
      "character frequency:\n",
      "a 2\n",
      "z 1\n",
      "e 1\n",
      "r 1\n",
      "b 1\n",
      "i 1\n",
      "j 1\n",
      "n 1\n"
     ]
    }
   ],
   "source": [
    "string = input(\"Enter the number\")\n",
    "frequency = {}\n",
    "for jupiter in string:\n",
    "    if jupiter in frequency:\n",
    "        frequency[jupiter] += 1\n",
    "    else:\n",
    "        frequency[jupiter] = 1\n",
    "    print(\"character frequency:\")\n",
    "    for key, value in frequency.items():\n",
    "        print(key,value)\n",
    "    "
   ]
  },
  {
   "cell_type": "markdown",
   "id": "4b81aa43",
   "metadata": {},
   "source": [
    "### Q no : 07\n",
    "### Write a program that accept a string from user. Your program should count and display number of vowels in the string :"
   ]
  },
  {
   "cell_type": "code",
   "execution_count": 22,
   "id": "0cbdccde",
   "metadata": {},
   "outputs": [
    {
     "name": "stdout",
     "output_type": "stream",
     "text": [
      "it is not palindrome\n"
     ]
    }
   ],
   "source": [
    "string = input(\"Enter the number\")\n",
    "reversed_string = string[:: -1]\n",
    "if string == reversed_string:\n",
    "    print('it is palindrome')\n",
    "else:\n",
    "    print('it is not palindrome')"
   ]
  },
  {
   "cell_type": "markdown",
   "id": "ee370463",
   "metadata": {},
   "source": [
    "### Q no : 08\n",
    "#### Write a Python program that accepts a string from the user.Your program should display the number of words in the string."
   ]
  },
  {
   "cell_type": "code",
   "execution_count": 26,
   "id": "f2fc5763",
   "metadata": {},
   "outputs": [
    {
     "name": "stdout",
     "output_type": "stream",
     "text": [
      "number of words in the string: 3\n"
     ]
    }
   ],
   "source": [
    "string = input(\"Enter  the number \")\n",
    "words = string.split()\n",
    "count = len(words)\n",
    "print(\"number of words in the string:\" , count)"
   ]
  },
  {
   "cell_type": "markdown",
   "id": "1b38205a",
   "metadata": {},
   "source": [
    "### Q no : 09\n",
    "#### Write a Python program that accepts a string from the user.Your program should convert all lowercase letters into uppercase letters and all uppercase letters into lowercase letters."
   ]
  },
  {
   "cell_type": "code",
   "execution_count": null,
   "id": "f13d2742",
   "metadata": {},
   "outputs": [
    {
     "name": "stdout",
     "output_type": "stream",
     "text": [
      "Converted string: APPLE\n"
     ]
    }
   ],
   "source": [
    "\n",
    "text = input(\"Enter a string: \")\n",
    "new_text = text.swapcase()\n",
    "print(\"Converted string:\", new_text)\n"
   ]
  }
 ],
 "metadata": {
  "kernelspec": {
   "display_name": "base",
   "language": "python",
   "name": "python3"
  },
  "language_info": {
   "codemirror_mode": {
    "name": "ipython",
    "version": 3
   },
   "file_extension": ".py",
   "mimetype": "text/x-python",
   "name": "python",
   "nbconvert_exporter": "python",
   "pygments_lexer": "ipython3",
   "version": "3.13.5"
  }
 },
 "nbformat": 4,
 "nbformat_minor": 5
}
